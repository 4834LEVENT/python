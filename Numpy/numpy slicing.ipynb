{
 "cells": [
  {
   "cell_type": "code",
   "execution_count": 2,
   "id": "ab468291",
   "metadata": {},
   "outputs": [],
   "source": [
    "import numpy as np"
   ]
  },
  {
   "cell_type": "code",
   "execution_count": 3,
   "id": "b3796e96",
   "metadata": {},
   "outputs": [],
   "source": [
    "benimdizim = np.arange(0,15)"
   ]
  },
  {
   "cell_type": "code",
   "execution_count": 4,
   "id": "e53849dd",
   "metadata": {},
   "outputs": [
    {
     "data": {
      "text/plain": [
       "array([ 0,  1,  2,  3,  4,  5,  6,  7,  8,  9, 10, 11, 12, 13, 14])"
      ]
     },
     "execution_count": 4,
     "metadata": {},
     "output_type": "execute_result"
    }
   ],
   "source": [
    "benimdizim"
   ]
  },
  {
   "cell_type": "code",
   "execution_count": 5,
   "id": "ef14b8ce",
   "metadata": {},
   "outputs": [
    {
     "data": {
      "text/plain": [
       "7"
      ]
     },
     "execution_count": 5,
     "metadata": {},
     "output_type": "execute_result"
    }
   ],
   "source": [
    "benimdizim[7]"
   ]
  },
  {
   "cell_type": "code",
   "execution_count": 6,
   "id": "f3bb7653",
   "metadata": {},
   "outputs": [
    {
     "data": {
      "text/plain": [
       "array([3, 4])"
      ]
     },
     "execution_count": 6,
     "metadata": {},
     "output_type": "execute_result"
    }
   ],
   "source": [
    "benimdizim[3:5]"
   ]
  },
  {
   "cell_type": "code",
   "execution_count": 7,
   "id": "440b40de",
   "metadata": {},
   "outputs": [
    {
     "data": {
      "text/plain": [
       "array([ 2,  3,  4,  5,  6,  7,  8,  9, 10, 11, 12, 13, 14])"
      ]
     },
     "execution_count": 7,
     "metadata": {},
     "output_type": "execute_result"
    }
   ],
   "source": [
    "benimdizim[2:19]"
   ]
  },
  {
   "cell_type": "code",
   "execution_count": 8,
   "id": "b733b5dd",
   "metadata": {},
   "outputs": [
    {
     "data": {
      "text/plain": [
       "array([ 5,  6,  7,  8,  9, 10, 11])"
      ]
     },
     "execution_count": 8,
     "metadata": {},
     "output_type": "execute_result"
    }
   ],
   "source": [
    "benimdizim[5:12]"
   ]
  },
  {
   "cell_type": "code",
   "execution_count": 9,
   "id": "99bf1a89",
   "metadata": {},
   "outputs": [
    {
     "data": {
      "text/plain": [
       "array([ 0,  1,  2, -5, -5,  5,  6,  7,  8,  9, 10, 11, 12, 13, 14])"
      ]
     },
     "execution_count": 9,
     "metadata": {},
     "output_type": "execute_result"
    }
   ],
   "source": [
    "benimdizim[3:5] = -5\n",
    "benimdizim"
   ]
  },
  {
   "cell_type": "code",
   "execution_count": 10,
   "id": "3a994cf2",
   "metadata": {},
   "outputs": [],
   "source": [
    "baskadizi = np.arange(0,20)"
   ]
  },
  {
   "cell_type": "code",
   "execution_count": 11,
   "id": "25e654bd",
   "metadata": {},
   "outputs": [
    {
     "data": {
      "text/plain": [
       "array([4, 5, 6, 7, 8])"
      ]
     },
     "execution_count": 11,
     "metadata": {},
     "output_type": "execute_result"
    }
   ],
   "source": [
    "baskadizi[4:9]"
   ]
  },
  {
   "cell_type": "code",
   "execution_count": 12,
   "id": "bf95923c",
   "metadata": {},
   "outputs": [],
   "source": [
    "slicingdizi = baskadizi[4:9]\n"
   ]
  },
  {
   "cell_type": "code",
   "execution_count": 23,
   "id": "31a4f3b1",
   "metadata": {
    "scrolled": true
   },
   "outputs": [
    {
     "data": {
      "text/plain": [
       "array([ 0,  1,  2,  3,  4,  5,  6,  7,  8,  9, 10, 11, 12, 13, 14, 15, 16,\n",
       "       17, 18, 19])"
      ]
     },
     "execution_count": 23,
     "metadata": {},
     "output_type": "execute_result"
    }
   ],
   "source": [
    "baskadizi"
   ]
  },
  {
   "cell_type": "code",
   "execution_count": 13,
   "id": "a3b1c40c",
   "metadata": {},
   "outputs": [
    {
     "data": {
      "text/plain": [
       "array([4, 5, 6, 7, 8])"
      ]
     },
     "execution_count": 13,
     "metadata": {},
     "output_type": "execute_result"
    }
   ],
   "source": [
    "slicingdizi\n"
   ]
  },
  {
   "cell_type": "code",
   "execution_count": 14,
   "id": "da0d4e66",
   "metadata": {},
   "outputs": [],
   "source": [
    "slicingdizi[:] = 300"
   ]
  },
  {
   "cell_type": "code",
   "execution_count": 15,
   "id": "48e6b638",
   "metadata": {},
   "outputs": [
    {
     "data": {
      "text/plain": [
       "array([  0,   1,   2,   3, 300, 300, 300, 300, 300,   9,  10,  11,  12,\n",
       "        13,  14,  15,  16,  17,  18,  19])"
      ]
     },
     "execution_count": 15,
     "metadata": {},
     "output_type": "execute_result"
    }
   ],
   "source": [
    "baskadizi #numpy da yapılan local değişiklikler dizinin tamamını da etkiler"
   ]
  },
  {
   "cell_type": "code",
   "execution_count": 16,
   "id": "26cf8642",
   "metadata": {},
   "outputs": [],
   "source": [
    "examplearray = np.arange(0,24)"
   ]
  },
  {
   "cell_type": "code",
   "execution_count": 17,
   "id": "a5e04cbe",
   "metadata": {},
   "outputs": [
    {
     "data": {
      "text/plain": [
       "array([ 0,  1,  2,  3,  4,  5,  6,  7,  8,  9, 10, 11, 12, 13, 14, 15, 16,\n",
       "       17, 18, 19, 20, 21, 22, 23])"
      ]
     },
     "execution_count": 17,
     "metadata": {},
     "output_type": "execute_result"
    }
   ],
   "source": [
    "examplearray"
   ]
  },
  {
   "cell_type": "code",
   "execution_count": 18,
   "id": "724c71d0",
   "metadata": {},
   "outputs": [],
   "source": [
    "examplearraycopy = examplearray.copy()\n"
   ]
  },
  {
   "cell_type": "code",
   "execution_count": 19,
   "id": "683f4427",
   "metadata": {},
   "outputs": [
    {
     "data": {
      "text/plain": [
       "array([ 0,  1,  2,  3,  4,  5,  6,  7,  8,  9, 10, 11, 12, 13, 14, 15, 16,\n",
       "       17, 18, 19, 20, 21, 22, 23])"
      ]
     },
     "execution_count": 19,
     "metadata": {},
     "output_type": "execute_result"
    }
   ],
   "source": [
    "examplearraycopy"
   ]
  },
  {
   "cell_type": "code",
   "execution_count": 20,
   "id": "02b3fdca",
   "metadata": {},
   "outputs": [
    {
     "data": {
      "text/plain": [
       "array([ 4,  5,  6,  7,  8,  9, 10, 11])"
      ]
     },
     "execution_count": 20,
     "metadata": {},
     "output_type": "execute_result"
    }
   ],
   "source": [
    "examplearraycopy[4:12]"
   ]
  },
  {
   "cell_type": "code",
   "execution_count": 22,
   "id": "84708792",
   "metadata": {},
   "outputs": [],
   "source": [
    "examplearraycopyslicing = examplearraycopy[4:10]"
   ]
  },
  {
   "cell_type": "code",
   "execution_count": 23,
   "id": "8539d8bd",
   "metadata": {},
   "outputs": [],
   "source": [
    "examplearraycopyslicing[:] = 200"
   ]
  },
  {
   "cell_type": "code",
   "execution_count": 24,
   "id": "7d5b5e98",
   "metadata": {},
   "outputs": [
    {
     "data": {
      "text/plain": [
       "array([ 0,  1,  2,  3,  4,  5,  6,  7,  8,  9, 10, 11, 12, 13, 14, 15, 16,\n",
       "       17, 18, 19, 20, 21, 22, 23])"
      ]
     },
     "execution_count": 24,
     "metadata": {},
     "output_type": "execute_result"
    }
   ],
   "source": [
    "examplearray"
   ]
  },
  {
   "cell_type": "code",
   "execution_count": 27,
   "id": "9bb54e2d",
   "metadata": {},
   "outputs": [
    {
     "data": {
      "text/plain": [
       "array([  0,   1,   2,   3, 200, 200, 200, 200, 200, 200,  10,  11,  12,\n",
       "        13,  14,  15,  16,  17,  18,  19,  20,  21,  22,  23])"
      ]
     },
     "execution_count": 27,
     "metadata": {},
     "output_type": "execute_result"
    }
   ],
   "source": [
    "examplearraycopy # numpy da eğer bir dizi üzerinde çalışıp dizinin orijinal hali kalsın istiyorsak copy ile çağırıp işlem yaparak yeni dizi oluşturmalıyız"
   ]
  },
  {
   "cell_type": "markdown",
   "id": "0105d910",
   "metadata": {},
   "source": [
    "# matrix"
   ]
  },
  {
   "cell_type": "code",
   "execution_count": 28,
   "id": "342fb3bf",
   "metadata": {},
   "outputs": [],
   "source": [
    "benimlistem = [[1,2,3,],[2,3,5],[5,6,7]]"
   ]
  },
  {
   "cell_type": "code",
   "execution_count": 29,
   "id": "9e2cbd3e",
   "metadata": {},
   "outputs": [],
   "source": [
    "matrixdizim = np.array(benimlistem)"
   ]
  },
  {
   "cell_type": "code",
   "execution_count": 30,
   "id": "008060f6",
   "metadata": {},
   "outputs": [
    {
     "data": {
      "text/plain": [
       "array([[1, 2, 3],\n",
       "       [2, 3, 5],\n",
       "       [5, 6, 7]])"
      ]
     },
     "execution_count": 30,
     "metadata": {},
     "output_type": "execute_result"
    }
   ],
   "source": [
    "matrixdizim"
   ]
  },
  {
   "cell_type": "code",
   "execution_count": 31,
   "id": "1b4d8112",
   "metadata": {},
   "outputs": [
    {
     "data": {
      "text/plain": [
       "array([1, 2, 3])"
      ]
     },
     "execution_count": 31,
     "metadata": {},
     "output_type": "execute_result"
    }
   ],
   "source": [
    "matrixdizim[0]\n"
   ]
  },
  {
   "cell_type": "code",
   "execution_count": 32,
   "id": "7d7685e7",
   "metadata": {},
   "outputs": [
    {
     "data": {
      "text/plain": [
       "5"
      ]
     },
     "execution_count": 32,
     "metadata": {},
     "output_type": "execute_result"
    }
   ],
   "source": [
    "matrixdizim[1][2]"
   ]
  },
  {
   "cell_type": "code",
   "execution_count": 33,
   "id": "6d4667ec",
   "metadata": {},
   "outputs": [
    {
     "data": {
      "text/plain": [
       "5"
      ]
     },
     "execution_count": 33,
     "metadata": {},
     "output_type": "execute_result"
    }
   ],
   "source": [
    "matrixdizim[1,2]"
   ]
  },
  {
   "cell_type": "code",
   "execution_count": 34,
   "id": "f10f76a9",
   "metadata": {},
   "outputs": [
    {
     "data": {
      "text/plain": [
       "5"
      ]
     },
     "execution_count": 34,
     "metadata": {},
     "output_type": "execute_result"
    }
   ],
   "source": [
    "matrixdizim[1,2]"
   ]
  },
  {
   "cell_type": "code",
   "execution_count": 35,
   "id": "bd5b7244",
   "metadata": {},
   "outputs": [
    {
     "data": {
      "text/plain": [
       "array([5, 7])"
      ]
     },
     "execution_count": 35,
     "metadata": {},
     "output_type": "execute_result"
    }
   ],
   "source": [
    "matrixdizim[1: ,2]"
   ]
  },
  {
   "cell_type": "code",
   "execution_count": 36,
   "id": "325b255f",
   "metadata": {},
   "outputs": [
    {
     "data": {
      "text/plain": [
       "array([3, 5, 7])"
      ]
     },
     "execution_count": 36,
     "metadata": {},
     "output_type": "execute_result"
    }
   ],
   "source": [
    "matrixdizim[0:,2]"
   ]
  },
  {
   "cell_type": "code",
   "execution_count": 37,
   "id": "e93153a6",
   "metadata": {},
   "outputs": [
    {
     "data": {
      "text/plain": [
       "array([[1, 2, 3],\n",
       "       [2, 3, 5],\n",
       "       [5, 6, 7]])"
      ]
     },
     "execution_count": 37,
     "metadata": {},
     "output_type": "execute_result"
    }
   ],
   "source": [
    "matrixdizim"
   ]
  },
  {
   "cell_type": "code",
   "execution_count": 42,
   "id": "d2017bdd",
   "metadata": {},
   "outputs": [
    {
     "data": {
      "text/plain": [
       "array([[2, 3],\n",
       "       [5, 6]])"
      ]
     },
     "execution_count": 42,
     "metadata": {},
     "output_type": "execute_result"
    }
   ],
   "source": [
    "matrixdizim[1:3,:2]"
   ]
  },
  {
   "cell_type": "code",
   "execution_count": 52,
   "id": "ec1ee45e",
   "metadata": {},
   "outputs": [],
   "source": [
    "newlist = [[0,1,2,3,4],[7,8,9,10,11],[10,23,1,2,3],[1,2,3,4,5]]\n"
   ]
  },
  {
   "cell_type": "code",
   "execution_count": 53,
   "id": "d33b504b",
   "metadata": {},
   "outputs": [],
   "source": [
    "newmatrix = np.array(newlist)\n"
   ]
  },
  {
   "cell_type": "code",
   "execution_count": 54,
   "id": "a19fc41a",
   "metadata": {},
   "outputs": [
    {
     "data": {
      "text/plain": [
       "array([[ 0,  1,  2,  3,  4],\n",
       "       [ 7,  8,  9, 10, 11],\n",
       "       [10, 23,  1,  2,  3],\n",
       "       [ 1,  2,  3,  4,  5]])"
      ]
     },
     "execution_count": 54,
     "metadata": {},
     "output_type": "execute_result"
    }
   ],
   "source": [
    "newmatrix"
   ]
  },
  {
   "cell_type": "code",
   "execution_count": 57,
   "id": "249b33f6",
   "metadata": {},
   "outputs": [
    {
     "data": {
      "text/plain": [
       "array([[ 7,  8,  9, 10, 11],\n",
       "       [ 1,  2,  3,  4,  5]])"
      ]
     },
     "execution_count": 57,
     "metadata": {},
     "output_type": "execute_result"
    }
   ],
   "source": [
    "newmatrix[[1,3]]"
   ]
  },
  {
   "cell_type": "code",
   "execution_count": 58,
   "id": "cabbdf7d",
   "metadata": {},
   "outputs": [
    {
     "data": {
      "text/plain": [
       "array([[ 0,  1,  2,  3,  4],\n",
       "       [10, 23,  1,  2,  3],\n",
       "       [ 1,  2,  3,  4,  5]])"
      ]
     },
     "execution_count": 58,
     "metadata": {},
     "output_type": "execute_result"
    }
   ],
   "source": [
    "newmatrix[[0,2,3]]"
   ]
  },
  {
   "cell_type": "code",
   "execution_count": 59,
   "id": "844aee93",
   "metadata": {},
   "outputs": [
    {
     "data": {
      "text/plain": [
       "array([[ 1,  2,  3,  4,  5],\n",
       "       [10, 23,  1,  2,  3]])"
      ]
     },
     "execution_count": 59,
     "metadata": {},
     "output_type": "execute_result"
    }
   ],
   "source": [
    "newmatrix[[3,2]]"
   ]
  },
  {
   "cell_type": "code",
   "execution_count": null,
   "id": "bc1a9fd4",
   "metadata": {},
   "outputs": [],
   "source": []
  }
 ],
 "metadata": {
  "kernelspec": {
   "display_name": "Python 3 (ipykernel)",
   "language": "python",
   "name": "python3"
  },
  "language_info": {
   "codemirror_mode": {
    "name": "ipython",
    "version": 3
   },
   "file_extension": ".py",
   "mimetype": "text/x-python",
   "name": "python",
   "nbconvert_exporter": "python",
   "pygments_lexer": "ipython3",
   "version": "3.9.7"
  }
 },
 "nbformat": 4,
 "nbformat_minor": 5
}
