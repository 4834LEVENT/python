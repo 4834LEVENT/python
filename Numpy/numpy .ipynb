{
 "cells": [
  {
   "cell_type": "code",
   "execution_count": 1,
   "id": "ac44bfae",
   "metadata": {},
   "outputs": [],
   "source": [
    "import numpy as np\n"
   ]
  },
  {
   "cell_type": "markdown",
   "id": "c069b2d6",
   "metadata": {},
   "source": [
    "# numpy array "
   ]
  },
  {
   "cell_type": "code",
   "execution_count": 3,
   "id": "a6de4979",
   "metadata": {},
   "outputs": [],
   "source": [
    "benimlistem = [20,30,40]"
   ]
  },
  {
   "cell_type": "code",
   "execution_count": 4,
   "id": "142b27a1",
   "metadata": {},
   "outputs": [
    {
     "data": {
      "text/plain": [
       "list"
      ]
     },
     "execution_count": 4,
     "metadata": {},
     "output_type": "execute_result"
    }
   ],
   "source": [
    "type(benimlistem)"
   ]
  },
  {
   "cell_type": "code",
   "execution_count": 5,
   "id": "d9b43cb3",
   "metadata": {},
   "outputs": [
    {
     "data": {
      "text/plain": [
       "array([20, 30, 40])"
      ]
     },
     "execution_count": 5,
     "metadata": {},
     "output_type": "execute_result"
    }
   ],
   "source": [
    "np.array(benimlistem)"
   ]
  },
  {
   "cell_type": "code",
   "execution_count": 6,
   "id": "2c5cb687",
   "metadata": {},
   "outputs": [],
   "source": [
    "matrixlistesi = [[10,20,30],[30,40,50],[60,70,80]]"
   ]
  },
  {
   "cell_type": "code",
   "execution_count": 7,
   "id": "9520d3cc",
   "metadata": {},
   "outputs": [
    {
     "data": {
      "text/plain": [
       "list"
      ]
     },
     "execution_count": 7,
     "metadata": {},
     "output_type": "execute_result"
    }
   ],
   "source": [
    "type(matrixlistesi)"
   ]
  },
  {
   "cell_type": "code",
   "execution_count": 8,
   "id": "e3b1b9fb",
   "metadata": {},
   "outputs": [
    {
     "data": {
      "text/plain": [
       "array([[10, 20, 30],\n",
       "       [30, 40, 50],\n",
       "       [60, 70, 80]])"
      ]
     },
     "execution_count": 8,
     "metadata": {},
     "output_type": "execute_result"
    }
   ],
   "source": [
    "np.array(matrixlistesi)"
   ]
  },
  {
   "cell_type": "markdown",
   "id": "7569a4a9",
   "metadata": {},
   "source": [
    "# numpy methodları "
   ]
  },
  {
   "cell_type": "markdown",
   "id": "4ad9a350",
   "metadata": {},
   "source": [
    "# arange methodu"
   ]
  },
  {
   "cell_type": "code",
   "execution_count": 10,
   "id": "c7774b81",
   "metadata": {},
   "outputs": [
    {
     "data": {
      "text/plain": [
       "array([0, 1, 2, 3, 4, 5, 6, 7, 8, 9])"
      ]
     },
     "execution_count": 10,
     "metadata": {},
     "output_type": "execute_result"
    }
   ],
   "source": [
    "np.arange(0,10)\n"
   ]
  },
  {
   "cell_type": "code",
   "execution_count": 11,
   "id": "d223a18f",
   "metadata": {},
   "outputs": [
    {
     "data": {
      "text/plain": [
       "array([ 0,  3,  6,  9, 12, 15, 18])"
      ]
     },
     "execution_count": 11,
     "metadata": {},
     "output_type": "execute_result"
    }
   ],
   "source": [
    "np.arange(0,19,3)"
   ]
  },
  {
   "cell_type": "markdown",
   "id": "f0fecdd9",
   "metadata": {},
   "source": [
    "# zeros"
   ]
  },
  {
   "cell_type": "code",
   "execution_count": 12,
   "id": "5fbf522f",
   "metadata": {},
   "outputs": [
    {
     "data": {
      "text/plain": [
       "array([0., 0., 0., 0., 0.])"
      ]
     },
     "execution_count": 12,
     "metadata": {},
     "output_type": "execute_result"
    }
   ],
   "source": [
    "np.zeros(5)"
   ]
  },
  {
   "cell_type": "code",
   "execution_count": 13,
   "id": "4fe3b943",
   "metadata": {},
   "outputs": [
    {
     "data": {
      "text/plain": [
       "array([[0., 0.],\n",
       "       [0., 0.]])"
      ]
     },
     "execution_count": 13,
     "metadata": {},
     "output_type": "execute_result"
    }
   ],
   "source": [
    "np.zeros((2,2))"
   ]
  },
  {
   "cell_type": "code",
   "execution_count": 15,
   "id": "5c011136",
   "metadata": {},
   "outputs": [
    {
     "data": {
      "text/plain": [
       "array([[0., 0., 0., 0., 0., 0., 0., 0., 0.],\n",
       "       [0., 0., 0., 0., 0., 0., 0., 0., 0.],\n",
       "       [0., 0., 0., 0., 0., 0., 0., 0., 0.],\n",
       "       [0., 0., 0., 0., 0., 0., 0., 0., 0.],\n",
       "       [0., 0., 0., 0., 0., 0., 0., 0., 0.],\n",
       "       [0., 0., 0., 0., 0., 0., 0., 0., 0.],\n",
       "       [0., 0., 0., 0., 0., 0., 0., 0., 0.],\n",
       "       [0., 0., 0., 0., 0., 0., 0., 0., 0.],\n",
       "       [0., 0., 0., 0., 0., 0., 0., 0., 0.]])"
      ]
     },
     "execution_count": 15,
     "metadata": {},
     "output_type": "execute_result"
    }
   ],
   "source": [
    "np.zeros((9,9))"
   ]
  },
  {
   "cell_type": "code",
   "execution_count": 16,
   "id": "31324f73",
   "metadata": {},
   "outputs": [
    {
     "data": {
      "text/plain": [
       "array([1., 1., 1., 1., 1., 1.])"
      ]
     },
     "execution_count": 16,
     "metadata": {},
     "output_type": "execute_result"
    }
   ],
   "source": [
    "np.ones((6))"
   ]
  },
  {
   "cell_type": "code",
   "execution_count": 17,
   "id": "2c8b02d9",
   "metadata": {},
   "outputs": [
    {
     "data": {
      "text/plain": [
       "array([[1., 1., 1., 1., 1., 1., 1., 1., 1.],\n",
       "       [1., 1., 1., 1., 1., 1., 1., 1., 1.],\n",
       "       [1., 1., 1., 1., 1., 1., 1., 1., 1.],\n",
       "       [1., 1., 1., 1., 1., 1., 1., 1., 1.],\n",
       "       [1., 1., 1., 1., 1., 1., 1., 1., 1.],\n",
       "       [1., 1., 1., 1., 1., 1., 1., 1., 1.],\n",
       "       [1., 1., 1., 1., 1., 1., 1., 1., 1.],\n",
       "       [1., 1., 1., 1., 1., 1., 1., 1., 1.],\n",
       "       [1., 1., 1., 1., 1., 1., 1., 1., 1.]])"
      ]
     },
     "execution_count": 17,
     "metadata": {},
     "output_type": "execute_result"
    }
   ],
   "source": [
    "np.ones((9,9))"
   ]
  },
  {
   "cell_type": "markdown",
   "id": "e7c1c298",
   "metadata": {},
   "source": [
    "# linspace"
   ]
  },
  {
   "cell_type": "code",
   "execution_count": 19,
   "id": "b6e0b347",
   "metadata": {},
   "outputs": [
    {
     "data": {
      "text/plain": [
       "array([ 0.,  4.,  8., 12., 16., 20.])"
      ]
     },
     "execution_count": 19,
     "metadata": {},
     "output_type": "execute_result"
    }
   ],
   "source": [
    "np.linspace(0,20,6)"
   ]
  },
  {
   "cell_type": "code",
   "execution_count": 20,
   "id": "ea318ac4",
   "metadata": {},
   "outputs": [
    {
     "data": {
      "text/plain": [
       "array([  0.        ,   0.50251256,   1.00502513,   1.50753769,\n",
       "         2.01005025,   2.51256281,   3.01507538,   3.51758794,\n",
       "         4.0201005 ,   4.52261307,   5.02512563,   5.52763819,\n",
       "         6.03015075,   6.53266332,   7.03517588,   7.53768844,\n",
       "         8.04020101,   8.54271357,   9.04522613,   9.54773869,\n",
       "        10.05025126,  10.55276382,  11.05527638,  11.55778894,\n",
       "        12.06030151,  12.56281407,  13.06532663,  13.5678392 ,\n",
       "        14.07035176,  14.57286432,  15.07537688,  15.57788945,\n",
       "        16.08040201,  16.58291457,  17.08542714,  17.5879397 ,\n",
       "        18.09045226,  18.59296482,  19.09547739,  19.59798995,\n",
       "        20.10050251,  20.60301508,  21.10552764,  21.6080402 ,\n",
       "        22.11055276,  22.61306533,  23.11557789,  23.61809045,\n",
       "        24.12060302,  24.62311558,  25.12562814,  25.6281407 ,\n",
       "        26.13065327,  26.63316583,  27.13567839,  27.63819095,\n",
       "        28.14070352,  28.64321608,  29.14572864,  29.64824121,\n",
       "        30.15075377,  30.65326633,  31.15577889,  31.65829146,\n",
       "        32.16080402,  32.66331658,  33.16582915,  33.66834171,\n",
       "        34.17085427,  34.67336683,  35.1758794 ,  35.67839196,\n",
       "        36.18090452,  36.68341709,  37.18592965,  37.68844221,\n",
       "        38.19095477,  38.69346734,  39.1959799 ,  39.69849246,\n",
       "        40.20100503,  40.70351759,  41.20603015,  41.70854271,\n",
       "        42.21105528,  42.71356784,  43.2160804 ,  43.71859296,\n",
       "        44.22110553,  44.72361809,  45.22613065,  45.72864322,\n",
       "        46.23115578,  46.73366834,  47.2361809 ,  47.73869347,\n",
       "        48.24120603,  48.74371859,  49.24623116,  49.74874372,\n",
       "        50.25125628,  50.75376884,  51.25628141,  51.75879397,\n",
       "        52.26130653,  52.7638191 ,  53.26633166,  53.76884422,\n",
       "        54.27135678,  54.77386935,  55.27638191,  55.77889447,\n",
       "        56.28140704,  56.7839196 ,  57.28643216,  57.78894472,\n",
       "        58.29145729,  58.79396985,  59.29648241,  59.79899497,\n",
       "        60.30150754,  60.8040201 ,  61.30653266,  61.80904523,\n",
       "        62.31155779,  62.81407035,  63.31658291,  63.81909548,\n",
       "        64.32160804,  64.8241206 ,  65.32663317,  65.82914573,\n",
       "        66.33165829,  66.83417085,  67.33668342,  67.83919598,\n",
       "        68.34170854,  68.84422111,  69.34673367,  69.84924623,\n",
       "        70.35175879,  70.85427136,  71.35678392,  71.85929648,\n",
       "        72.36180905,  72.86432161,  73.36683417,  73.86934673,\n",
       "        74.3718593 ,  74.87437186,  75.37688442,  75.87939698,\n",
       "        76.38190955,  76.88442211,  77.38693467,  77.88944724,\n",
       "        78.3919598 ,  78.89447236,  79.39698492,  79.89949749,\n",
       "        80.40201005,  80.90452261,  81.40703518,  81.90954774,\n",
       "        82.4120603 ,  82.91457286,  83.41708543,  83.91959799,\n",
       "        84.42211055,  84.92462312,  85.42713568,  85.92964824,\n",
       "        86.4321608 ,  86.93467337,  87.43718593,  87.93969849,\n",
       "        88.44221106,  88.94472362,  89.44723618,  89.94974874,\n",
       "        90.45226131,  90.95477387,  91.45728643,  91.95979899,\n",
       "        92.46231156,  92.96482412,  93.46733668,  93.96984925,\n",
       "        94.47236181,  94.97487437,  95.47738693,  95.9798995 ,\n",
       "        96.48241206,  96.98492462,  97.48743719,  97.98994975,\n",
       "        98.49246231,  98.99497487,  99.49748744, 100.        ])"
      ]
     },
     "execution_count": 20,
     "metadata": {},
     "output_type": "execute_result"
    }
   ],
   "source": [
    "np.linspace(0,100,200)"
   ]
  },
  {
   "cell_type": "markdown",
   "id": "c0416ba3",
   "metadata": {},
   "source": [
    "# eye"
   ]
  },
  {
   "cell_type": "code",
   "execution_count": 21,
   "id": "d42dc3b3",
   "metadata": {},
   "outputs": [
    {
     "data": {
      "text/plain": [
       "array([[1., 0., 0., 0., 0.],\n",
       "       [0., 1., 0., 0., 0.],\n",
       "       [0., 0., 1., 0., 0.],\n",
       "       [0., 0., 0., 1., 0.],\n",
       "       [0., 0., 0., 0., 1.]])"
      ]
     },
     "execution_count": 21,
     "metadata": {},
     "output_type": "execute_result"
    }
   ],
   "source": [
    "np.eye(5)"
   ]
  },
  {
   "cell_type": "markdown",
   "id": "6ab5f8fc",
   "metadata": {},
   "source": [
    "# random "
   ]
  },
  {
   "cell_type": "code",
   "execution_count": 22,
   "id": "1c3c2411",
   "metadata": {},
   "outputs": [
    {
     "data": {
      "text/plain": [
       "array([ 1.12612739, -1.26253075,  0.0753273 ,  1.01438009, -0.01280054,\n",
       "       -0.16918274,  0.34317991, -0.27873221])"
      ]
     },
     "execution_count": 22,
     "metadata": {},
     "output_type": "execute_result"
    }
   ],
   "source": [
    "np.random.randn(8)"
   ]
  },
  {
   "cell_type": "code",
   "execution_count": 23,
   "id": "b548bf88",
   "metadata": {},
   "outputs": [
    {
     "data": {
      "text/plain": [
       "array([[-0.88713876, -1.19955638, -0.06943923,  0.30344627],\n",
       "       [ 0.02886485,  0.9668792 , -0.37916546,  0.64380156],\n",
       "       [ 0.35760642, -0.24298599, -1.24503748, -1.16997962],\n",
       "       [-1.21057265, -0.96403922,  0.22021382, -0.40961217]])"
      ]
     },
     "execution_count": 23,
     "metadata": {},
     "output_type": "execute_result"
    }
   ],
   "source": [
    "np.random.randn(4,4)"
   ]
  },
  {
   "cell_type": "code",
   "execution_count": 26,
   "id": "1b51b979",
   "metadata": {},
   "outputs": [
    {
     "data": {
      "text/plain": [
       "12"
      ]
     },
     "execution_count": 26,
     "metadata": {},
     "output_type": "execute_result"
    }
   ],
   "source": [
    "np.random.randint(1,20)"
   ]
  },
  {
   "cell_type": "code",
   "execution_count": 28,
   "id": "bfb8fcba",
   "metadata": {},
   "outputs": [
    {
     "data": {
      "text/plain": [
       "8"
      ]
     },
     "execution_count": 28,
     "metadata": {},
     "output_type": "execute_result"
    }
   ],
   "source": [
    "np.random.randint(1,10)\n"
   ]
  },
  {
   "cell_type": "code",
   "execution_count": null,
   "id": "dbb5c734",
   "metadata": {},
   "outputs": [],
   "source": [
    "np.random.randint()\n",
    "\n"
   ]
  },
  {
   "cell_type": "code",
   "execution_count": 29,
   "id": "ca6805dd",
   "metadata": {},
   "outputs": [
    {
     "data": {
      "text/plain": [
       "array([ 0,  1,  2,  3,  4,  5,  6,  7,  8,  9, 10, 11, 12, 13, 14, 15, 16,\n",
       "       17, 18, 19, 20, 21, 22, 23, 24, 25, 26, 27, 28, 29])"
      ]
     },
     "execution_count": 29,
     "metadata": {},
     "output_type": "execute_result"
    }
   ],
   "source": [
    "benimdizim = np.arange(30)\n",
    "benimdizim"
   ]
  },
  {
   "cell_type": "code",
   "execution_count": 30,
   "id": "d8931d3f",
   "metadata": {},
   "outputs": [
    {
     "data": {
      "text/plain": [
       "array([ 8,  3, 46, 33, 17, 75, 80, 31, 85, 25, 71, 39, 70, 97, 38, 30, 21,\n",
       "       53, 29, 20, 76, 32, 64, 73, 84, 66, 37, 23, 42, 44])"
      ]
     },
     "execution_count": 30,
     "metadata": {},
     "output_type": "execute_result"
    }
   ],
   "source": [
    "benimrandomdizim = np.random.randint(0,100,30)\n",
    "benimrandomdizim"
   ]
  },
  {
   "cell_type": "markdown",
   "id": "37667b9a",
   "metadata": {},
   "source": [
    "# numpy dizi methodlari"
   ]
  },
  {
   "cell_type": "code",
   "execution_count": 31,
   "id": "0b07a681",
   "metadata": {},
   "outputs": [
    {
     "data": {
      "text/plain": [
       "array([[ 0,  1,  2,  3,  4,  5],\n",
       "       [ 6,  7,  8,  9, 10, 11],\n",
       "       [12, 13, 14, 15, 16, 17],\n",
       "       [18, 19, 20, 21, 22, 23],\n",
       "       [24, 25, 26, 27, 28, 29]])"
      ]
     },
     "execution_count": 31,
     "metadata": {},
     "output_type": "execute_result"
    }
   ],
   "source": [
    "benimdizim.reshape(5,6)"
   ]
  },
  {
   "cell_type": "code",
   "execution_count": 32,
   "id": "519f88f1",
   "metadata": {},
   "outputs": [
    {
     "data": {
      "text/plain": [
       "array([[ 0,  1,  2,  3,  4],\n",
       "       [ 5,  6,  7,  8,  9],\n",
       "       [10, 11, 12, 13, 14],\n",
       "       [15, 16, 17, 18, 19],\n",
       "       [20, 21, 22, 23, 24],\n",
       "       [25, 26, 27, 28, 29]])"
      ]
     },
     "execution_count": 32,
     "metadata": {},
     "output_type": "execute_result"
    }
   ],
   "source": [
    "benimdizim.reshape(6,5)"
   ]
  },
  {
   "cell_type": "code",
   "execution_count": 33,
   "id": "eec7ba7d",
   "metadata": {},
   "outputs": [
    {
     "data": {
      "text/plain": [
       "29"
      ]
     },
     "execution_count": 33,
     "metadata": {},
     "output_type": "execute_result"
    }
   ],
   "source": [
    "benimdizim.max()"
   ]
  },
  {
   "cell_type": "code",
   "execution_count": 34,
   "id": "67d0528a",
   "metadata": {},
   "outputs": [
    {
     "data": {
      "text/plain": [
       "97"
      ]
     },
     "execution_count": 34,
     "metadata": {},
     "output_type": "execute_result"
    }
   ],
   "source": [
    "benimrandomdizim.max()"
   ]
  },
  {
   "cell_type": "code",
   "execution_count": 35,
   "id": "a1d2429f",
   "metadata": {},
   "outputs": [
    {
     "data": {
      "text/plain": [
       "29"
      ]
     },
     "execution_count": 35,
     "metadata": {},
     "output_type": "execute_result"
    }
   ],
   "source": [
    "benimdizim.argmax()"
   ]
  },
  {
   "cell_type": "code",
   "execution_count": 36,
   "id": "057d2093",
   "metadata": {},
   "outputs": [
    {
     "data": {
      "text/plain": [
       "1"
      ]
     },
     "execution_count": 36,
     "metadata": {},
     "output_type": "execute_result"
    }
   ],
   "source": [
    "benimrandomdizim.argmin()"
   ]
  },
  {
   "cell_type": "code",
   "execution_count": 37,
   "id": "59806715",
   "metadata": {},
   "outputs": [
    {
     "data": {
      "text/plain": [
       "0"
      ]
     },
     "execution_count": 37,
     "metadata": {},
     "output_type": "execute_result"
    }
   ],
   "source": [
    "benimdizim.argmin()"
   ]
  },
  {
   "cell_type": "code",
   "execution_count": 38,
   "id": "f85d5177",
   "metadata": {},
   "outputs": [
    {
     "data": {
      "text/plain": [
       "(30,)"
      ]
     },
     "execution_count": 38,
     "metadata": {},
     "output_type": "execute_result"
    }
   ],
   "source": [
    "benimdizim.shape"
   ]
  },
  {
   "cell_type": "code",
   "execution_count": 39,
   "id": "af71159a",
   "metadata": {},
   "outputs": [
    {
     "data": {
      "text/plain": [
       "array([[ 0,  1,  2,  3,  4,  5],\n",
       "       [ 6,  7,  8,  9, 10, 11],\n",
       "       [12, 13, 14, 15, 16, 17],\n",
       "       [18, 19, 20, 21, 22, 23],\n",
       "       [24, 25, 26, 27, 28, 29]])"
      ]
     },
     "execution_count": 39,
     "metadata": {},
     "output_type": "execute_result"
    }
   ],
   "source": [
    "reshapebenimdizim = benimdizim.reshape(5,6)\n",
    "reshapebenimdizim"
   ]
  },
  {
   "cell_type": "code",
   "execution_count": 40,
   "id": "b74cbecd",
   "metadata": {},
   "outputs": [
    {
     "data": {
      "text/plain": [
       "(5, 6)"
      ]
     },
     "execution_count": 40,
     "metadata": {},
     "output_type": "execute_result"
    }
   ],
   "source": [
    "reshapebenimdizim.shape #güncel dizimin hangi şekle sahip olduğunu bulmak için kullanılır"
   ]
  },
  {
   "cell_type": "code",
   "execution_count": null,
   "id": "c1545741",
   "metadata": {},
   "outputs": [],
   "source": []
  }
 ],
 "metadata": {
  "kernelspec": {
   "display_name": "Python 3 (ipykernel)",
   "language": "python",
   "name": "python3"
  },
  "language_info": {
   "codemirror_mode": {
    "name": "ipython",
    "version": 3
   },
   "file_extension": ".py",
   "mimetype": "text/x-python",
   "name": "python",
   "nbconvert_exporter": "python",
   "pygments_lexer": "ipython3",
   "version": "3.9.7"
  }
 },
 "nbformat": 4,
 "nbformat_minor": 5
}
