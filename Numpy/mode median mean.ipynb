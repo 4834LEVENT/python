{
 "cells": [
  {
   "cell_type": "code",
   "execution_count": 1,
   "id": "c8dd3a8d",
   "metadata": {},
   "outputs": [],
   "source": [
    "import numpy as np"
   ]
  },
  {
   "cell_type": "code",
   "execution_count": 2,
   "id": "0e51a911",
   "metadata": {},
   "outputs": [],
   "source": [
    "from scipy import stats"
   ]
  },
  {
   "cell_type": "code",
   "execution_count": 3,
   "id": "a474fde6",
   "metadata": {},
   "outputs": [],
   "source": [
    "salary =  [102, 33, 26, 27, 30, 25, 33, 33, 24]\n"
   ]
  },
  {
   "cell_type": "code",
   "execution_count": 4,
   "id": "b81bf2e6",
   "metadata": {},
   "outputs": [
    {
     "data": {
      "text/plain": [
       "9"
      ]
     },
     "execution_count": 4,
     "metadata": {},
     "output_type": "execute_result"
    }
   ],
   "source": [
    "len(salary)"
   ]
  },
  {
   "cell_type": "code",
   "execution_count": 5,
   "id": "432746c8",
   "metadata": {},
   "outputs": [],
   "source": [
    "mean_salary = np.mean(salary)"
   ]
  },
  {
   "cell_type": "code",
   "execution_count": 6,
   "id": "05460811",
   "metadata": {},
   "outputs": [
    {
     "name": "stdout",
     "output_type": "stream",
     "text": [
      "mean 37.0\n"
     ]
    }
   ],
   "source": [
    "print(\"mean\",mean_salary)"
   ]
  },
  {
   "cell_type": "code",
   "execution_count": 7,
   "id": "ac7b57e8",
   "metadata": {},
   "outputs": [],
   "source": [
    "median_salary = np.median(salary)"
   ]
  },
  {
   "cell_type": "code",
   "execution_count": 8,
   "id": "a10137e1",
   "metadata": {},
   "outputs": [
    {
     "name": "stdout",
     "output_type": "stream",
     "text": [
      "mean 30.0\n"
     ]
    }
   ],
   "source": [
    "print(\"mean\" ,median_salary)"
   ]
  },
  {
   "cell_type": "code",
   "execution_count": 9,
   "id": "20c7744a",
   "metadata": {},
   "outputs": [],
   "source": [
    "mode_salary = stats.mode(salary)"
   ]
  },
  {
   "cell_type": "code",
   "execution_count": 10,
   "id": "7e465df2",
   "metadata": {},
   "outputs": [
    {
     "name": "stdout",
     "output_type": "stream",
     "text": [
      "mode ModeResult(mode=array([33]), count=array([3]))\n"
     ]
    }
   ],
   "source": [
    "print(\"mode\", mode_salary)"
   ]
  },
  {
   "cell_type": "markdown",
   "id": "c88ab370",
   "metadata": {},
   "source": [
    "# min max range"
   ]
  },
  {
   "cell_type": "code",
   "execution_count": 11,
   "id": "99bc02bd",
   "metadata": {},
   "outputs": [],
   "source": [
    "data = [32, 36, 46, 47, 56, 69, 75, 79, 79, 88, 89, 91, 92, 93, 96, 97, 101, 105, 112, 116]"
   ]
  },
  {
   "cell_type": "code",
   "execution_count": 12,
   "id": "e212ee83",
   "metadata": {},
   "outputs": [
    {
     "data": {
      "text/plain": [
       "32"
      ]
     },
     "execution_count": 12,
     "metadata": {},
     "output_type": "execute_result"
    }
   ],
   "source": [
    "np.min(data)"
   ]
  },
  {
   "cell_type": "code",
   "execution_count": 13,
   "id": "a3109d70",
   "metadata": {},
   "outputs": [
    {
     "data": {
      "text/plain": [
       "116"
      ]
     },
     "execution_count": 13,
     "metadata": {},
     "output_type": "execute_result"
    }
   ],
   "source": [
    "np.max(data)"
   ]
  },
  {
   "cell_type": "code",
   "execution_count": 14,
   "id": "01435b0b",
   "metadata": {},
   "outputs": [
    {
     "data": {
      "text/plain": [
       "84"
      ]
     },
     "execution_count": 14,
     "metadata": {},
     "output_type": "execute_result"
    }
   ],
   "source": [
    "np.max(data)-np.min(data)"
   ]
  },
  {
   "cell_type": "code",
   "execution_count": 15,
   "id": "a0e33a74",
   "metadata": {},
   "outputs": [],
   "source": [
    "data = [32, 36, 46, 47, 56, 69, 75, 79, 80, 88, 89]"
   ]
  },
  {
   "cell_type": "markdown",
   "id": "ebc34213",
   "metadata": {},
   "source": [
    "#first quartile q1"
   ]
  },
  {
   "cell_type": "code",
   "execution_count": 16,
   "id": "7a6a7bc1",
   "metadata": {},
   "outputs": [
    {
     "data": {
      "text/plain": [
       "46.5"
      ]
     },
     "execution_count": 16,
     "metadata": {},
     "output_type": "execute_result"
    }
   ],
   "source": [
    "np.percentile(data,25)"
   ]
  },
  {
   "cell_type": "code",
   "execution_count": 17,
   "id": "842ac6f7",
   "metadata": {},
   "outputs": [],
   "source": [
    "#second quartile"
   ]
  },
  {
   "cell_type": "code",
   "execution_count": 18,
   "id": "536112ac",
   "metadata": {},
   "outputs": [
    {
     "data": {
      "text/plain": [
       "69.0"
      ]
     },
     "execution_count": 18,
     "metadata": {},
     "output_type": "execute_result"
    }
   ],
   "source": [
    "np.percentile(data,50)"
   ]
  },
  {
   "cell_type": "code",
   "execution_count": 20,
   "id": "7b6290f6",
   "metadata": {},
   "outputs": [],
   "source": [
    "#third quartile"
   ]
  },
  {
   "cell_type": "code",
   "execution_count": 21,
   "id": "a6e0a20f",
   "metadata": {},
   "outputs": [
    {
     "data": {
      "text/plain": [
       "79.5"
      ]
     },
     "execution_count": 21,
     "metadata": {},
     "output_type": "execute_result"
    }
   ],
   "source": [
    "np.percentile(data,75)"
   ]
  },
  {
   "cell_type": "code",
   "execution_count": 23,
   "id": "b14a6258",
   "metadata": {},
   "outputs": [],
   "source": [
    "IQR = np.percentile(data,75) -np.percentile(data,25)"
   ]
  },
  {
   "cell_type": "code",
   "execution_count": 24,
   "id": "47f6bb9c",
   "metadata": {},
   "outputs": [
    {
     "data": {
      "text/plain": [
       "33.0"
      ]
     },
     "execution_count": 24,
     "metadata": {},
     "output_type": "execute_result"
    }
   ],
   "source": [
    "IQR"
   ]
  },
  {
   "cell_type": "code",
   "execution_count": 27,
   "id": "f8699f30",
   "metadata": {},
   "outputs": [
    {
     "data": {
      "text/plain": [
       "33.0"
      ]
     },
     "execution_count": 27,
     "metadata": {},
     "output_type": "execute_result"
    }
   ],
   "source": [
    "stats.iqr(data)"
   ]
  },
  {
   "cell_type": "code",
   "execution_count": 37,
   "id": "27c23974",
   "metadata": {},
   "outputs": [],
   "source": [
    "import matplotlib.pyplot as plt"
   ]
  },
  {
   "cell_type": "code",
   "execution_count": 40,
   "id": "c2f86aab",
   "metadata": {},
   "outputs": [
    {
     "data": {
      "image/png": "[encoded data removed]",
      "text/plain": [
       "<Figure size 432x288 with 1 Axes>"
      ]
     },
     "metadata": {
      "needs_background": "light"
     },
     "output_type": "display_data"
    }
   ],
   "source": [
    "plt.boxplot(data);"
   ]
  },
  {
   "cell_type": "code",
   "execution_count": 41,
   "id": "ef4a37ff",
   "metadata": {},
   "outputs": [
    {
     "data": {
      "text/plain": [
       "[<matplotlib.lines.Line2D at 0x2e9fcb14a00>]"
      ]
     },
     "execution_count": 41,
     "metadata": {},
     "output_type": "execute_result"
    },
    {
     "data": {
      "image/png": "[encoded data removed]",
      "text/plain": [
       "<Figure size 432x288 with 1 Axes>"
      ]
     },
     "metadata": {
      "needs_background": "light"
     },
     "output_type": "display_data"
    }
   ],
   "source": [
    "plt.plot(data)"
   ]
  },
  {
   "cell_type": "code",
   "execution_count": null,
   "id": "d63c7b4d",
   "metadata": {},
   "outputs": [],
   "source": []
  },
  {
   "cell_type": "code",
   "execution_count": null,
   "id": "067b4904",
   "metadata": {},
   "outputs": [],
   "source": []
  },
  {
   "cell_type": "markdown",
   "id": "1db590a1",
   "metadata": {},
   "source": [
    "# standart deviation"
   ]
  },
  {
   "cell_type": "code",
   "execution_count": 34,
   "id": "f99adc6e",
   "metadata": {},
   "outputs": [
    {
     "data": {
      "text/plain": [
       "391.68595041322317"
      ]
     },
     "execution_count": 34,
     "metadata": {},
     "output_type": "execute_result"
    }
   ],
   "source": [
    "np.var(data)"
   ]
  },
  {
   "cell_type": "code",
   "execution_count": 35,
   "id": "ad4ded85",
   "metadata": {},
   "outputs": [
    {
     "data": {
      "text/plain": [
       "19.791057334392804"
      ]
     },
     "execution_count": 35,
     "metadata": {},
     "output_type": "execute_result"
    }
   ],
   "source": [
    "np.std(data)"
   ]
  },
  {
   "cell_type": "code",
   "execution_count": 39,
   "id": "6dfd25a0",
   "metadata": {},
   "outputs": [
    {
     "data": {
      "text/plain": [
       "19.791057334392804"
      ]
     },
     "execution_count": 39,
     "metadata": {},
     "output_type": "execute_result"
    }
   ],
   "source": [
    "np.sqrt(np.var(data))"
   ]
  },
  {
   "cell_type": "code",
   "execution_count": null,
   "id": "ffc94ff4",
   "metadata": {},
   "outputs": [],
   "source": []
  }
 ],
 "metadata": {
  "kernelspec": {
   "display_name": "Python 3 (ipykernel)",
   "language": "python",
   "name": "python3"
  },
  "language_info": {
   "codemirror_mode": {
    "name": "ipython",
    "version": 3
   },
   "file_extension": ".py",
   "mimetype": "text/x-python",
   "name": "python",
   "nbconvert_exporter": "python",
   "pygments_lexer": "ipython3",
   "version": "3.9.7"
  }
 },
 "nbformat": 4,
 "nbformat_minor": 5
}
